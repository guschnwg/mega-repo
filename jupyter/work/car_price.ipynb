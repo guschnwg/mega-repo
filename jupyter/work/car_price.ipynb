{
 "cells": [
  {
   "cell_type": "code",
   "execution_count": 175,
   "id": "29934b28-65cb-4441-91be-2040e515b587",
   "metadata": {},
   "outputs": [],
   "source": [
    "import pandas as pd\n",
    "data = pd.read_csv(\"CarPrice_Assignment.csv\")\n",
    "data.drop('car_ID', axis=1, inplace=True)"
   ]
  },
  {
   "cell_type": "code",
   "execution_count": 191,
   "id": "40ac6a17-8011-45dd-8c54-a1e3d59767bc",
   "metadata": {},
   "outputs": [],
   "source": [
    "# data.columns\n",
    "# data.isnull().sum()\n",
    "# data.describe()\n",
    "# data.info()"
   ]
  },
  {
   "cell_type": "code",
   "execution_count": 177,
   "id": "cb8d84f4-3b07-43b6-9894-ee2ffc30e823",
   "metadata": {},
   "outputs": [],
   "source": [
    "import seaborn as sns\n",
    "import matplotlib.pyplot as plt"
   ]
  },
  {
   "cell_type": "code",
   "execution_count": 192,
   "id": "cc9c3cca-15c8-4c47-b455-e514f5180a37",
   "metadata": {},
   "outputs": [],
   "source": [
    "# variable = 'wheelbase'\n",
    "# sns.scatterplot(x=variable, y='price', data=data)"
   ]
  },
  {
   "cell_type": "code",
   "execution_count": 193,
   "id": "26464f96-855f-4093-8fcd-a6bb081c5436",
   "metadata": {},
   "outputs": [
    {
     "name": "stdout",
     "output_type": "stream",
     "text": [
      "\n"
     ]
    }
   ],
   "source": [
    "data.select_dtypes(include='number').corr()['price'].sort_values(ascending=False)\n",
    "data.select_dtypes(include='number').corr(method='spearman')['price'].sort_values(ascending=False)\n",
    "print()"
   ]
  },
  {
   "cell_type": "code",
   "execution_count": 180,
   "id": "79d688ab-019a-41a4-b066-36e334a6c963",
   "metadata": {},
   "outputs": [],
   "source": [
    "# Got from DeepSeek\n",
    "\n",
    "from sklearn.model_selection import KFold\n",
    "\n",
    "def kfold_target_encoding(df, categorical_col, target_col, n_folds=5, smooth=0):\n",
    "    new_col = categorical_col + \"_encoded\"\n",
    "    df[new_col] = np.nan\n",
    "\n",
    "    kf = KFold(n_splits=n_folds, shuffle=True, random_state=42)\n",
    "    \n",
    "    for train_idx, val_idx in kf.split(df):\n",
    "        X_train, X_val = df.iloc[train_idx], df.iloc[val_idx]\n",
    "        \n",
    "        # Calculate mean target per category (with smoothing)\n",
    "        means = X_train.groupby(categorical_col)[target_col].mean()\n",
    "        counts = X_train.groupby(categorical_col)[target_col].count()\n",
    "        \n",
    "        # Smoothing to handle rare categories\n",
    "        global_mean = X_train[target_col].mean()\n",
    "        smooth_means = (means * counts + global_mean * smooth) / (counts + smooth)\n",
    "        \n",
    "        # Apply encoding to validation fold\n",
    "        df.loc[val_idx, new_col] = X_val[categorical_col].map(smooth_means)\n",
    "    \n",
    "    # Fill remaining NaNs with global mean (if any)\n",
    "    df[new_col].fillna(global_mean, inplace=True)\n",
    "    \n",
    "    return df\n",
    "\n",
    "for column in data.select_dtypes(include='object').columns:\n",
    "    data = kfold_target_encoding(data, column, 'price', n_folds=3, smooth=1)"
   ]
  },
  {
   "cell_type": "code",
   "execution_count": 194,
   "id": "8c374a51-0b9b-40cf-8460-3dd87e1f2ae9",
   "metadata": {},
   "outputs": [],
   "source": [
    "correlation = data.select_dtypes(include='number').corr()['price'].sort_values(ascending=False)\n",
    "selected_features = correlation[abs(correlation) > 0.6].keys().drop('price')\n",
    "# selected_features\n",
    "# data.select_dtypes(include='number').corr(method='spearman')['price'].sort_values(ascending=False)"
   ]
  },
  {
   "cell_type": "code",
   "execution_count": 195,
   "id": "fa67f348-bb12-41ce-995b-613a3cb96d1d",
   "metadata": {},
   "outputs": [
    {
     "name": "stdout",
     "output_type": "stream",
     "text": [
      "R² Score: 0.8563382543264395\n"
     ]
    }
   ],
   "source": [
    "from sklearn.linear_model import LinearRegression\n",
    "from sklearn.model_selection import train_test_split\n",
    "\n",
    "# selected_features = ['stroke', 'peakrpm', 'symboling']\n",
    "# selected_features = ['horsepower', 'enginesize', 'citympg', 'highwaympg', 'wheelbase']\n",
    "# selected_features = ['price']\n",
    "# selected_features += ['cylindernumber_encoded', 'doornumber_encoded']\n",
    "\n",
    "X = data[selected_features]\n",
    "y = data['price']\n",
    "\n",
    "X_train, X_test, y_train, y_test = train_test_split(X, y, test_size=0.2, random_state=42)\n",
    "\n",
    "model = LinearRegression()\n",
    "model.fit(X_train, y_train)\n",
    "\n",
    "# Check model performance\n",
    "print(f\"R² Score: {model.score(X_test, y_test)}\")"
   ]
  },
  {
   "cell_type": "code",
   "execution_count": 196,
   "id": "048e12c1-a6c9-489f-93f3-5e9d4404fb41",
   "metadata": {},
   "outputs": [
    {
     "name": "stdout",
     "output_type": "stream",
     "text": [
      "   enginesize  curbweight  horsepower  carwidth  cylindernumber_encoded  \\\n",
      "0         130        2548         111      64.1            10107.704501   \n",
      "\n",
      "   carlength  drivewheel_encoded  citympg  highwaympg  \n",
      "0      168.8        20868.566349       21          27  \n"
     ]
    },
    {
     "data": {
      "text/plain": [
       "array([13594.69050895])"
      ]
     },
     "execution_count": 196,
     "metadata": {},
     "output_type": "execute_result"
    }
   ],
   "source": [
    "to_predict = data[selected_features].iloc[[0]]\n",
    "print(to_predict)\n",
    "model.predict(to_predict)"
   ]
  }
 ],
 "metadata": {
  "kernelspec": {
   "display_name": "Python 3 (ipykernel)",
   "language": "python",
   "name": "python3"
  },
  "language_info": {
   "codemirror_mode": {
    "name": "ipython",
    "version": 3
   },
   "file_extension": ".py",
   "mimetype": "text/x-python",
   "name": "python",
   "nbconvert_exporter": "python",
   "pygments_lexer": "ipython3",
   "version": "3.11.6"
  }
 },
 "nbformat": 4,
 "nbformat_minor": 5
}
